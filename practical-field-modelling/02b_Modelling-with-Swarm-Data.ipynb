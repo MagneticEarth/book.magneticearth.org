{
 "cells": [
  {
   "cell_type": "markdown",
   "id": "e175dfa5-b401-416b-b8b3-642382f6a8d4",
   "metadata": {},
   "source": [
    "# Modelling with Swarm data"
   ]
  },
  {
   "cell_type": "code",
   "execution_count": null,
   "id": "731f9d08-0da4-4218-9ad6-d2b73ee197ef",
   "metadata": {},
   "outputs": [],
   "source": [
    "import datetime as dt\n",
    "import numpy as np\n",
    "import xarray as xr\n",
    "import matplotlib.pyplot as plt\n",
    "import cartopy.crs as ccrs\n",
    "import cartopy.feature as cfeature\n",
    "import holoviews as hv\n",
    "import hvplot.xarray\n",
    "\n",
    "from chaosmagpy.model_utils import design_gauss, synth_values\n",
    "from chaosmagpy.coordinate_utils import geo_to_gg, gg_to_geo\n",
    "from viresclient import SwarmRequest"
   ]
  },
  {
   "cell_type": "markdown",
   "id": "07e20d67-6deb-496c-9ee5-775e16403999",
   "metadata": {},
   "source": [
    "## Fetch Swarm data to use"
   ]
  },
  {
   "cell_type": "markdown",
   "id": "3b04caa1-8dca-4f0a-8eb4-9fa331ce9489",
   "metadata": {},
   "source": [
    "Following the data selection demonstrated in the previous notebook..."
   ]
  },
  {
   "cell_type": "code",
   "execution_count": null,
   "id": "f2af9967-baab-4e4e-9664-68cc8844378b",
   "metadata": {},
   "outputs": [],
   "source": [
    "def fetch_selected_data():\n",
    "    \"\"\"Fetch Swarm data, using filters to select the \"clean\" measurements\"\"\"\n",
    "    \n",
    "    request = SwarmRequest()\n",
    "    request.set_collection(\"SW_OPER_MAGA_LR_1B\")\n",
    "    request.set_products(\n",
    "        measurements=[\"B_NEC\"],\n",
    "        sampling_step=\"PT1M\",\n",
    "        # auxiliaries=[\"Kp\", \"dDst\", \"MLT\", \"SunZenithAngle\"],\n",
    "    )\n",
    "    # Reject bad data according to quality flags\n",
    "    request.add_filter(\"Flags_B != 255\")\n",
    "    request.add_filter(\"Flags_q != 255\")\n",
    "    # Reject geomagnetically active times\n",
    "    request.add_filter(\"Kp <= 3\")\n",
    "    request.add_filter(\"dDst <= 3\")\n",
    "    # Reject sunlit data (retain data where Sun is 10° below horizon)\n",
    "    request.add_filter(\"SunZenithAngle >= 80\")\n",
    "    data = request.get_between(\n",
    "        start_time=dt.datetime(2025,1,1),\n",
    "        end_time=dt.datetime(2025,2,1)\n",
    "    )\n",
    "    ds = data.as_xarray()\n",
    "    ds.attrs.pop(\"Sources\")\n",
    "    return ds\n",
    "\n",
    "ds = fetch_selected_data()\n",
    "ds"
   ]
  },
  {
   "cell_type": "markdown",
   "id": "15d64efe-4361-49cd-b4c4-b165721494d9",
   "metadata": {},
   "source": [
    "## Constructing a model"
   ]
  },
  {
   "cell_type": "code",
   "execution_count": null,
   "id": "6960a893-ae23-4f1d-81f0-49d742507561",
   "metadata": {},
   "outputs": [],
   "source": [
    "def build_model(ds, nmax=13):\n",
    "    \"\"\"Use the contents of dataset, ds, to build a SH model\"\"\"\n",
    "    # Get the positions and measurements from ds\n",
    "    radius = (ds[\"Radius\"]/1e3).values\n",
    "    theta = (90-ds[\"Latitude\"]).values\n",
    "    phi = (ds[\"Longitude\"]).values\n",
    "    B_radius = -ds[\"B_NEC\"].sel(NEC=\"C\").values\n",
    "    B_theta = -ds[\"B_NEC\"].sel(NEC=\"N\").values\n",
    "    B_phi = ds[\"B_NEC\"].sel(NEC=\"E\").values\n",
    "    # Use ChaosMagPy to build the design matrix, G\n",
    "    # https://chaosmagpy.readthedocs.io/en/master/functions/chaosmagpy.model_utils.design_gauss.html\n",
    "    G_radius, G_theta, G_phi = design_gauss(radius, theta, phi, nmax=nmax)\n",
    "    # Using only the radial component, perform the inversion:\n",
    "    G = G_radius\n",
    "    d = B_radius\n",
    "    m = np.linalg.inv(G.T @ G) @ (G.T @ d)\n",
    "    return m\n",
    "\n",
    "model_coeffs = build_model(ds)\n",
    "print(f\"First 10 coefficients of the model:\\n{model_coeffs[:10]}\")"
   ]
  },
  {
   "cell_type": "markdown",
   "id": "d547a0a6-e2ae-4001-8b59-0756f60f3921",
   "metadata": {},
   "source": [
    "Let's sample our model and visualise it with contours:"
   ]
  },
  {
   "cell_type": "code",
   "execution_count": null,
   "id": "b6f39740-54cb-4501-b4ae-adf44f7c6695",
   "metadata": {},
   "outputs": [],
   "source": [
    "def sample_model_on_grid(m, radius=6371.200):\n",
    "    \"\"\"Evaluate Gauss coefficients over a regular grid over Earth\"\"\"\n",
    "    theta = np.arange(1, 180, 1)\n",
    "    phi = np.arange(-180, 180, 1)\n",
    "    theta, phi = np.meshgrid(theta, phi)\n",
    "    B_r, B_t, B_p = synth_values(m, radius, theta, phi)\n",
    "    ds_grid = xr.Dataset(\n",
    "        data_vars={\"B_NEC_model\": ((\"y\", \"x\", \"NEC\"), np.stack((-B_t, B_p, -B_r), axis=2))},\n",
    "        coords={\"Latitude\": ((\"y\", \"x\"), 90-theta), \"Longitude\": ((\"y\", \"x\"), phi), \"NEC\": np.array([\"N\", \"E\", \"C\"])}\n",
    "    )\n",
    "    return ds_grid\n",
    "\n",
    "# Evaluate at the mean radius of the satellite measurements\n",
    "mean_radius_km = float(ds[\"Radius\"].mean())/1e3\n",
    "ds_grid = sample_model_on_grid(model_coeffs, radius=mean_radius_km)\n",
    "# Generate contour plot of vertical component\n",
    "ds_grid.sel(NEC=\"C\").hvplot.contourf(\n",
    "    x=\"Longitude\", y=\"Latitude\", c=\"B_NEC_model\",\n",
    "    levels=30, coastline=True, projection=ccrs.PlateCarree(), global_extent=True,\n",
    "    clabel=\"Model: vertical (downwards) magnetic field (nT)\"\n",
    ")"
   ]
  },
  {
   "cell_type": "markdown",
   "id": "c795ded2-f423-40f8-b816-79111dcfdcb6",
   "metadata": {},
   "source": [
    "### Exercise\n",
    "\n",
    "We used `synth_values()` above to evaluate the model over the whole surface of Earth. Evaluate the model just in Lisbon (38.72° N, -9.14° W) and calculate the magnetic declination.\n",
    "\n",
    "Hints:\n",
    "- Use `synth_values(model_coeffs, ...)` to find the vector components ($B_r, B_\\theta, B_\\phi$)\n",
    "- Refer to the [geomagnetic components](https://intermagnet.org/faq/10.geomagnetic-comp) to calculate D\n",
    "- NB: ($B_r, B_\\theta, B_\\phi$) corresponds to (-Z, -X, Y). You may neglect the difference between geodetic and geocentric coordinates."
   ]
  }
 ],
 "metadata": {
  "kernelspec": {
   "display_name": "Python 3 (ipykernel)",
   "language": "python",
   "name": "python3"
  },
  "language_info": {
   "codemirror_mode": {
    "name": "ipython",
    "version": 3
   },
   "file_extension": ".py",
   "mimetype": "text/x-python",
   "name": "python",
   "nbconvert_exporter": "python",
   "pygments_lexer": "ipython3",
   "version": "3.11.6"
  }
 },
 "nbformat": 4,
 "nbformat_minor": 5
}
