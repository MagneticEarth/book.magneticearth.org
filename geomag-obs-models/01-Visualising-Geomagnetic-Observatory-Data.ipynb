{
 "cells": [
  {
   "cell_type": "markdown",
   "id": "0b61139f",
   "metadata": {},
   "source": [
    "# Visualising geomagnetic data"
   ]
  },
  {
   "cell_type": "code",
   "execution_count": null,
   "id": "4db1842b",
   "metadata": {},
   "outputs": [],
   "source": [
    "import datetime as dt\n",
    "import matplotlib.pyplot as plt\n",
    "import ipywidgets as widgets\n",
    "from viresclient import SwarmRequest"
   ]
  },
  {
   "cell_type": "markdown",
   "id": "9c22be63",
   "metadata": {},
   "source": [
    "## Fetching & loading INTERMAGNET data\n",
    "\n",
    "We use VirES to access the ground observatory [(see here for more)](https://swarm.magneticearth.org/notebooks/04c2_geomag-ground-data-vires)\n",
    "\n",
    "NB: Data is provided in the NEC (North, East, Centre) geocentrically-defined frame, in contrast to [INTERMAGNET data](https://intermagnet.github.io/) from other sources where the geodetic frame is used. This results in a small rotation in the North (X) and Centre (Z) vectors and a slightly different \"latitude\" for the observatory location."
   ]
  },
  {
   "cell_type": "code",
   "execution_count": null,
   "id": "b1357498",
   "metadata": {
    "tags": [
     "hide-input"
    ]
   },
   "outputs": [],
   "source": [
    "def fetch_obs_data_for_year(observatory=\"ESK\", year=2003, cadence=\"M\"):\n",
    "    \"\"\"Fetch a year of observatory data from VirES, at minute (M) or hour (H) cadence\n",
    "    \n",
    "    Args:\n",
    "        observatory (str): 3-letter IAGA code\n",
    "        year (int): Chosen year\n",
    "        cadence (str): \"M\" for minute, or \"H\" for hour\n",
    "        \n",
    "    Returns:\n",
    "        DataFrame\n",
    "    \"\"\"\n",
    "    request = SwarmRequest()\n",
    "    request.set_collection(f\"SW_OPER_AUX_OBS{cadence}2_:{observatory}\", verbose=False)\n",
    "    request.set_products(measurements=[\"B_NEC\", \"IAGA_code\"])\n",
    "    data = request.get_between(\n",
    "        dt.datetime(year, 1, 1),\n",
    "        dt.datetime(year+1, 1, 1)\n",
    "    )\n",
    "    df = data.as_dataframe(expand=True).drop(columns=\"Spacecraft\")\n",
    "    df = df.rename(columns={f\"B_NEC_{i}\": j for i, j in zip(\"NEC\", \"XYZ\")})\n",
    "    # ds = data.as_xarray().drop(\"Spacecraft\")\n",
    "    return df\n",
    "\n",
    "obs_min = fetch_obs_data_for_year(\n",
    "    observatory=\"ESK\",\n",
    "    year=2003,\n",
    "    cadence=\"M\"\n",
    ")\n",
    "obs_min.head()"
   ]
  },
  {
   "cell_type": "markdown",
   "id": "89d704f0",
   "metadata": {},
   "source": [
    "## Plotting 1-minute data and their hourly means"
   ]
  },
  {
   "cell_type": "code",
   "execution_count": null,
   "id": "9de87292",
   "metadata": {
    "tags": [
     "hide-input"
    ]
   },
   "outputs": [],
   "source": [
    "def plot_subset(start_date, end_date, hourly_mean=False, show_annual_mean=False, df=obs_min):\n",
    "    \"\"\"Configurably plot a subset of the data\n",
    "    \n",
    "    Args:\n",
    "        start_date (datetime)\n",
    "        end_date (datetime)\n",
    "        hourly_mean (bool): Evaluate and plot the hourly means instead\n",
    "        show_annual_mean (bool): Show offset from annual mean\n",
    "        \n",
    "    Returns: \n",
    "    \"\"\"\n",
    "    annual_mean = df.resample(\"1y\").mean()\n",
    "    df = df.loc[start_date:end_date]\n",
    "    observatory = obs_min[\"IAGA_code\"][0]\n",
    "    title = f\"Minute data from {observatory}\"\n",
    "    if hourly_mean:\n",
    "        df = df.resample(\"1h\").mean()\n",
    "        title += \": averaged over each hour\"\n",
    "    fig, axes = plt.subplots(nrows=3, figsize=(10, 7), sharex=True)\n",
    "    for i, cpt in enumerate(\"XYZ\"):\n",
    "        if show_annual_mean:\n",
    "            axes[i].fill_between(df.index, df[cpt], annual_mean[cpt])\n",
    "        else:\n",
    "            df[cpt].plot(ax=axes[i])\n",
    "            axes[i].plot(df[cpt])\n",
    "        axes[i].set_ylabel(f\"{cpt} (nT)\")\n",
    "        axes[i].grid()\n",
    "    fig.suptitle(title)\n",
    "    axes[2].set_xlabel(\"Date\")\n",
    "    fig.tight_layout()\n",
    "    return fig\n",
    "\n",
    "def make_widgets():\n",
    "    \"\"\"Use ipywidgets to interact with plot_subset\"\"\"\n",
    "    mini, maxi = str(obs_min.index.min().date()), str(obs_min.index.max().date())\n",
    "    start_date = widgets.DatePicker(\n",
    "        value=dt.datetime(2003, 1, 1),\n",
    "        description='Start Date',\n",
    "    )\n",
    "    end_date = widgets.DatePicker(\n",
    "        value=dt.datetime(2003, 2, 1),\n",
    "        description='End Date',\n",
    "    )\n",
    "    hourly_mean = widgets.Checkbox(\n",
    "        value=True,\n",
    "        description='Hourly mean',\n",
    "    )\n",
    "    annual_mean = widgets.Checkbox(\n",
    "        value=True,\n",
    "        description='Show annual mean',\n",
    "    )\n",
    "    return widgets.VBox(\n",
    "        [widgets.Label(f\"Select dates within range: {mini}, {maxi}\"),\n",
    "         widgets.HBox([start_date, end_date, widgets.VBox([hourly_mean, annual_mean])]),\n",
    "         widgets.interactive_output(\n",
    "             plot_subset,\n",
    "             {'start_date': start_date, 'end_date': end_date, 'hourly_mean': hourly_mean, 'show_annual_mean': annual_mean}\n",
    "         )]\n",
    "    )\n",
    "\n",
    "make_widgets()"
   ]
  }
 ],
 "metadata": {
  "kernelspec": {
   "display_name": "Python 3",
   "language": "python",
   "name": "python3"
  },
  "language_info": {
   "codemirror_mode": {
    "name": "ipython",
    "version": 3
   },
   "file_extension": ".py",
   "mimetype": "text/x-python",
   "name": "python",
   "nbconvert_exporter": "python",
   "pygments_lexer": "ipython3",
   "version": "3.8.8"
  }
 },
 "nbformat": 4,
 "nbformat_minor": 5
}
