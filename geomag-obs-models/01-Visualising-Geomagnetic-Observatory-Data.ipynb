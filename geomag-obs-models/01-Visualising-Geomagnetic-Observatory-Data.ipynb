{
 "cells": [
  {
   "cell_type": "markdown",
   "id": "d0683260",
   "metadata": {},
   "source": [
    "# Visualising geomagnetic data"
   ]
  },
  {
   "cell_type": "code",
   "execution_count": null,
   "id": "9333ff8c",
   "metadata": {
    "tags": [
     "hide-cell"
    ]
   },
   "outputs": [],
   "source": [
    "# Install latest development version of viresclient\n",
    "!pip install --upgrade git+https://github.com/ESA-VirES/VirES-Python-Client.git@staging\n",
    "\n",
    "# %load_ext autoreload\n",
    "# %autoreload 2\n",
    "\n",
    "import datetime as dt\n",
    "import numpy as np\n",
    "import pandas as pd\n",
    "import matplotlib.pyplot as plt\n",
    "import ipywidgets as widgets\n",
    "from viresclient import SwarmRequest\n",
    "\n",
    "## Use to make interactive matplotlib plots\n",
    "##  - doesn't work smoothly\n",
    "##  - investigating using plotly/bokeh instead\n",
    "# %matplotlib widget\n",
    "\n",
    "%load_ext watermark\n",
    "%watermark -i -v -p numpy,pandas,xarray,matplotlib,ipywidgets,viresclient"
   ]
  },
  {
   "cell_type": "markdown",
   "id": "6957fd40",
   "metadata": {},
   "source": [
    "## Fetching & loading INTERMAGNET data"
   ]
  },
  {
   "cell_type": "markdown",
   "id": "272994b8",
   "metadata": {},
   "source": [
    "Here we use [VirES](https://earth.esa.int/eogateway/tools/vires-for-swarm) to access some ground observatory data [(see here for more)](https://swarm.magneticearth.org/notebooks/04c2_geomag-ground-data-vires). The following code helps you download the data for a given observatory for a given year, and load them as a Pandas Dataframe. \n",
    "\n",
    "We will select data from 2003 measured at [the Eskdalemuir observatory (ESK)](http://www.geomag.bgs.ac.uk/operations/eskdale.html) in Scotland, which has a latitude of 55.314° N. If you wish you can select data from a different year or observatory (check [this map of INTERMAGNET observatories](https://intermagnet.github.io/metadata/map) to find the three-letter code that specifies the observatory).\n",
    "\n",
    "NB: Data is provided in the NEC (North, East, Centre) geocentrically-defined frame, in contrast to [INTERMAGNET data](https://intermagnet.github.io/) from other sources where the geodetic frame is used. This results in a small rotation in the North (X) and Centre (Z) vectors and a slightly different \"latitude\" for the observatory location."
   ]
  },
  {
   "cell_type": "code",
   "execution_count": null,
   "id": "6f692d1c",
   "metadata": {
    "tags": [
     "hide-input"
    ]
   },
   "outputs": [],
   "source": [
    "def fetch_obs_data_for_years(\n",
    "    observatory=\"ESK\", year_start=2003, year_end=2003, cadence=\"M\",\n",
    "    use_xarray=False, **kwargs\n",
    "):\n",
    "    \"\"\"Fetch given years of observatory data from VirES, at minute (M) or hour (H) cadence\n",
    "    \n",
    "    Args:\n",
    "        observatory (str): 3-letter IAGA code\n",
    "        year_start (int): Chosen year to start\n",
    "        year_end (int): Year to end with (inclusive)\n",
    "        cadence (str): \"M\" for minute, or \"H\" for hour\n",
    "        use_xarray (bool): Return xarray.Dataset instead\n",
    "        \n",
    "    Returns:\n",
    "        DataFrame\n",
    "    \"\"\"\n",
    "    # Fetch data from VirES\n",
    "    request = SwarmRequest()\n",
    "    request.set_collection(f\"SW_OPER_AUX_OBS{cadence}2_:{observatory}\", verbose=False)\n",
    "    request.set_products(measurements=[\"B_NEC\", \"IAGA_code\"])\n",
    "    data = request.get_between(\n",
    "        dt.datetime(year_start, 1, 1),\n",
    "        dt.datetime(year_end+1, 1, 1),\n",
    "        **kwargs\n",
    "    )\n",
    "    if use_xarray:\n",
    "        ds = data.as_xarray().drop(\"Spacecraft\")\n",
    "        return ds\n",
    "    else:\n",
    "        # Load data in Pandas Dataframe with X, Y, Z columns\n",
    "        df = data.as_dataframe(expand=True).drop(columns=\"Spacecraft\")\n",
    "        df = df.rename(columns={f\"B_NEC_{i}\": j for i, j in zip(\"NEC\", \"XYZ\")})\n",
    "        return df\n",
    "\n",
    "obs_min = fetch_obs_data_for_years(\n",
    "    observatory=\"ESK\",\n",
    "    year_start=2003,\n",
    "    year_end=2003,\n",
    "    cadence=\"M\",\n",
    ")\n",
    "obs_min.head()"
   ]
  },
  {
   "cell_type": "markdown",
   "id": "79134c1b",
   "metadata": {},
   "source": [
    "## Plotting 1-minute data and their hourly means"
   ]
  },
  {
   "cell_type": "markdown",
   "id": "84bc7262",
   "metadata": {},
   "source": [
    "This next code cell creates an interactive element that lets you view the data loaded above.\n",
    "\n",
    "```{tip}\n",
    "If you are viewing this on the web, you will not be able to interact with it - you will need to be in an active JupyterLab.\n",
    "```"
   ]
  },
  {
   "cell_type": "code",
   "execution_count": null,
   "id": "0b1da2ff",
   "metadata": {
    "tags": [
     "hide-input"
    ]
   },
   "outputs": [],
   "source": [
    "def plot_subset_timeseries(start_date, end_date, hourly_mean=False, show_annual_mean=False, df=obs_min):\n",
    "    \"\"\"Configurably plot a subset of the data\n",
    "    \n",
    "    Args:\n",
    "        start_date (datetime)\n",
    "        end_date (datetime)\n",
    "        hourly_mean (bool): Evaluate and plot the hourly means instead\n",
    "        show_annual_mean (bool): Show offset from annual mean\n",
    "        df (DataFrame): Assumed to be of form output from fetch_obs_data_for_year\n",
    "        \n",
    "    Returns:\n",
    "        Figure\n",
    "    \"\"\"\n",
    "    # Evaluate annual means to use later,\n",
    "    #   reindexed with the ending index points for each year\n",
    "    annual_mean = df.resample(\"1y\").mean()\n",
    "    annual_mean.index = [df.loc[str(year)].index[-1] for year in df.index.year.unique()]\n",
    "#     annual_mean.index = [\n",
    "#         df.loc[i].index[-1]\n",
    "#         for i in annual_mean.index.astype(str)\n",
    "#     ]\n",
    "    # Subset dataframe to selection\n",
    "    df = df.loc[start_date:end_date]\n",
    "    # Cut the annual mean (and reindex) to match df\n",
    "    #  so we can use it directly in ax.fill_between\n",
    "    annual_mean = annual_mean.loc[str(start_date.year):str(end_date.year)]\n",
    "    annual_mean = annual_mean.reindex(index=df.index, method=\"backfill\")\n",
    "    observatory = obs_min[\"IAGA_code\"][0]\n",
    "    title = f\"Minute data from {observatory}\"\n",
    "    if hourly_mean:\n",
    "        df = df.resample(\"1h\").mean()\n",
    "        annual_mean = annual_mean.reindex(index=df.index)\n",
    "        title += \": averaged over each hour\"\n",
    "    if show_annual_mean:\n",
    "        title += \"\\nshowing offset from annual mean\"\n",
    "    fig, axes = plt.subplots(nrows=3, figsize=(10, 7), sharex=True)\n",
    "    for i, cpt in enumerate(\"XYZ\"):\n",
    "        if show_annual_mean:\n",
    "            axes[i].fill_between(df.index, df[cpt], annual_mean[cpt])\n",
    "        else:\n",
    "            axes[i].plot(df[cpt])\n",
    "        axes[i].set_ylabel(f\"{cpt} (nT)\")\n",
    "        axes[i].grid()\n",
    "    fig.suptitle(title)\n",
    "    axes[2].set_xlabel(\"Date\")\n",
    "    fig.tight_layout()\n",
    "    return fig\n",
    "\n",
    "def make_widgets():\n",
    "    \"\"\"Use ipywidgets to interact with plot_subset_timeseries\"\"\"\n",
    "    mini, maxi = obs_min.index.min().date(), obs_min.index.max().date()\n",
    "    start_date = widgets.DatePicker(\n",
    "        value=mini,\n",
    "        description='Start Date',\n",
    "    )\n",
    "    end_date = widgets.DatePicker(\n",
    "        value=dt.datetime(mini.year, mini.month+1, mini.day),\n",
    "        description='End Date',\n",
    "    )\n",
    "    hourly_mean = widgets.Checkbox(\n",
    "        value=True,\n",
    "        description='Hourly mean',\n",
    "    )\n",
    "    annual_mean = widgets.Checkbox(\n",
    "        value=True,\n",
    "        description='Show annual mean',\n",
    "    )\n",
    "    return widgets.VBox(\n",
    "        [widgets.Label(f\"Select dates within range: {mini}, {maxi}\"),\n",
    "         widgets.HBox([start_date, end_date, widgets.VBox([hourly_mean, annual_mean])]),\n",
    "         widgets.interactive_output(\n",
    "             plot_subset_timeseries,\n",
    "             {'start_date': start_date, 'end_date': end_date, 'hourly_mean': hourly_mean, 'show_annual_mean': annual_mean}\n",
    "         )]\n",
    "    )\n",
    "\n",
    "make_widgets()"
   ]
  },
  {
   "cell_type": "markdown",
   "id": "690bab0f",
   "metadata": {},
   "source": [
    "```{note}\n",
    "What signals can you see in this data?\n",
    "```\n",
    "\n",
    "```{toggle}\n",
    "- Daily oscillation: due to the rotation of the Earth driving ionospheric change through the day/night - this is the Sq variation (\"solar quiet-day\" variation)\n",
    "- Shift in baseline over the year: due to the change in the main magnetic field from the core - this is the secular variation (SV)\n",
    "- More random variations due to geomagnetic activity\n",
    "```"
   ]
  },
  {
   "cell_type": "markdown",
   "id": "71cecb04",
   "metadata": {},
   "source": [
    "## Daily, seasonal and solar variations in declination"
   ]
  },
  {
   "cell_type": "markdown",
   "id": "aed18115",
   "metadata": {},
   "source": [
    "Let's now fetch the hourly dataset - these data are specially processed to improve data quality, over the straightforward hourly means calculated above from the minute data. For more information, see [Macmillan, S., Olsen, N. Observatory data and the Swarm mission. Earth Planet Sp 65, 15 (2013). https://doi.org/10.5047/eps.2013.07.011](https://doi.org/10.5047/eps.2013.07.011)"
   ]
  },
  {
   "cell_type": "code",
   "execution_count": null,
   "id": "e93ddae7",
   "metadata": {
    "tags": [
     "hide-cell"
    ]
   },
   "outputs": [],
   "source": [
    "obs_hourly = fetch_obs_data_for_years(\n",
    "    observatory=\"ESK\",\n",
    "    year_start=1900,\n",
    "    year_end=2020,\n",
    "    cadence=\"H\",\n",
    "    # additional kwargs for vireslient.SwarmRequest.get_between()\n",
    "    asynchronous=False,  # Make synchronous requests (faster)\n",
    "                         #  - only works for smaller data chunks\n",
    "                         #  - implicitly disables \"Processing\" progress bar\n",
    "    show_progress=False,        # Disable intermediate progress bars\n",
    "#     leave_intermediate_progress_bars=False,  # Clean up bars as we go\n",
    "#     show_progress_chunks=False  # Disable \"Processing chunks\" progress bar\n",
    ")"
   ]
  },
  {
   "cell_type": "markdown",
   "id": "ff2c7381",
   "metadata": {},
   "source": [
    "We will evaluate the declination angle, D, the horizontal deviation of the field from geographic North [(what are the geomagnetic components?)](https://intermagnet.github.io/faq/10.geomagnetic-comp.html)\n",
    "\n",
    "Next we summarise the data further by aggregating measurements over each month, evaluating the mean values over hourly intervals. For example, the mean declination at 10am across all days in January, the mean at 11am, and so on, repeated for each time of day and for each month. We then evaluate the offset of these declinations from the mean over the whole of each month - this is stored in `D_variation` in the resulting dataframe."
   ]
  },
  {
   "cell_type": "code",
   "execution_count": null,
   "id": "ac4af947",
   "metadata": {
    "tags": [
     "hide-input"
    ]
   },
   "outputs": [],
   "source": [
    "def monthly_means(df):\n",
    "    \"\"\"Return MultIndex DataFrame of monthly means over each hourly interval\"\"\"\n",
    "    # Append hour of day, and approx fractional year, to use for plotting\n",
    "    df[\"t_hour\"] = df.index.map(lambda x: x.hour + x.minute/60)\n",
    "    epoch = pd.to_datetime(0, unit='s').to_julian_date()\n",
    "    df[\"t_year\"] = df.index.map(lambda x: x.year + (x.month-.5)/12)\n",
    "    # Calculate the monthly mean for each hourly interval of the day\n",
    "    monthly = df.groupby([df.index.year, df.index.month, df.index.hour]).mean()\n",
    "    monthly.index.names = [\"Year\", \"Month\", \"Hour\"]\n",
    "    # Calculate the monthly mean over all hourly intervals\n",
    "    monthly_all = df.groupby([df.index.year, df.index.month]).mean()\n",
    "    # Calculate the daily declination variations:\n",
    "    #   the monthly average of the hourly intervals minus the total monthly mean\n",
    "    monthly[\"D_variation\"] = monthly['D'].values - monthly_all['D'].values.repeat(24)\n",
    "    return monthly\n",
    "\n",
    "obs_hourly[\"D\"] = np.rad2deg(np.arctan2(obs_hourly[\"Y\"], obs_hourly[\"X\"]))\n",
    "obs_monthly = monthly_means(obs_hourly)\n",
    "obs_monthly"
   ]
  },
  {
   "cell_type": "code",
   "execution_count": null,
   "id": "9bad9c79",
   "metadata": {
    "tags": [
     "hide-input"
    ]
   },
   "outputs": [],
   "source": [
    "def plot_dec_variation(df, year_start=1986, year_end=1997):\n",
    "    \"\"\"Make surface plot of declination variation against UT and Year\"\"\"\n",
    "    # Make subselection to plot, slicing along years\n",
    "    df = df.loc[slice(year_start, year_end), :]\n",
    "    fig, ax = plt.subplots(1, 1, figsize=(10, 10), subplot_kw={\"projection\": \"3d\"})\n",
    "    ax.plot_trisurf(\n",
    "        df[\"t_year\"], df[\"t_hour\"], df[\"D_variation\"],\n",
    "        cmap=plt.cm.jet, vmin=-0.15, vmax=0.15, antialiased=True\n",
    "    )\n",
    "    ax.set_xlabel(\"Year\")\n",
    "    ax.set_ylabel(\"Hour (UT)\")\n",
    "    ax.set_zlabel(\"D variations (degrees)\")\n",
    "    ax.view_init(elev=60, azim=210)\n",
    "    return fig, ax\n",
    "\n",
    "plot_dec_variation(obs_monthly, 1986, 2008);"
   ]
  }
 ],
 "metadata": {
  "kernelspec": {
   "display_name": "Python 3",
   "language": "python",
   "name": "python3"
  },
  "language_info": {
   "codemirror_mode": {
    "name": "ipython",
    "version": 3
   },
   "file_extension": ".py",
   "mimetype": "text/x-python",
   "name": "python",
   "nbconvert_exporter": "python",
   "pygments_lexer": "ipython3",
   "version": "3.8.8"
  },
  "toc-autonumbering": false,
  "toc-showcode": false,
  "toc-showmarkdowntxt": false
 },
 "nbformat": 4,
 "nbformat_minor": 5
}
