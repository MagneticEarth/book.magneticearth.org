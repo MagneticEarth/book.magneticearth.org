{
 "cells": [
  {
   "cell_type": "markdown",
   "id": "cb652bec",
   "metadata": {},
   "source": [
    "# Models visualised"
   ]
  },
  {
   "cell_type": "code",
   "execution_count": null,
   "id": "a0d10e63",
   "metadata": {
    "tags": [
     "hide-cell"
    ]
   },
   "outputs": [],
   "source": [
    "import os\n",
    "if 'CI' in os.environ:\n",
    "    os.environ['CDF_LIB'] = '/srv/conda/envs/notebook/lib'\n",
    "\n",
    "import datetime as dt\n",
    "import numpy as np\n",
    "import xarray as xr\n",
    "import matplotlib as mpl\n",
    "import matplotlib.pyplot as plt\n",
    "from scipy.interpolate import interp1d\n",
    "import cartopy.crs as ccrs\n",
    "import cartopy.feature as cfeature\n",
    "import hvplot.xarray\n",
    "\n",
    "import eoxmagmod\n",
    "from chaosmagpy.plot_utils import nio_colormap"
   ]
  },
  {
   "cell_type": "code",
   "execution_count": null,
   "id": "e8b95b5f",
   "metadata": {
    "tags": [
     "hide-cell"
    ]
   },
   "outputs": [],
   "source": [
    "def grid(nlats=179, nlons=360, height=0):\n",
    "    \"\"\"A global grid of the specified size\"\"\"\n",
    "    _lats = np.linspace(-89, 89, nlats)\n",
    "    _lons = np.linspace(-179, 180, nlons)\n",
    "    coords = np.empty((_lats.size, _lons.size, 3))\n",
    "    coords[:,:,1], coords[:,:,0] = np.meshgrid(_lons, _lats)\n",
    "    coords[:,:,2] = height # height above WGS84 in km\n",
    "    return coords\n",
    "\n",
    "def eval_model(\n",
    "        time=dt.datetime(2020, 1, 1),\n",
    "        coords=grid(),\n",
    "        shc_model=eoxmagmod.data.IGRF13,\n",
    "    ):\n",
    "    \"\"\"Evaluate a .shc model at a fixed time\n",
    "\n",
    "    Args:\n",
    "        time (datetime)\n",
    "        coords (ndarray)\n",
    "        shc_model (str): path to file\n",
    "\n",
    "    Returns:\n",
    "        dict: magnetic field vector components:\n",
    "            https://intermagnet.github.io/faq/10.geomagnetic-comp.html\n",
    "    \"\"\"\n",
    "    # Convert Python datetime to MJD2000\n",
    "    epoch = eoxmagmod.util.datetime_to_decimal_year(time)\n",
    "    mjd2000 = eoxmagmod.decimal_year_to_mjd2000(epoch)\n",
    "    # Load model\n",
    "    model = eoxmagmod.load_model_shc(shc_model)\n",
    "    # Evaluate in North, East, Up coordinates\n",
    "    # Specify coordinate systems according to:\n",
    "    #   CT_GEODETIC_ABOVE_WGS84 = 0,\n",
    "    #   CT_GEOCENTRIC_SPHERICAL = 1,\n",
    "    #   CT_GEOCENTRIC_CARTESIAN = 2\n",
    "    # https://github.com/ESA-VirES/MagneticModel/blob/staging/eoxmagmod/eoxmagmod/pymm_coord.h\n",
    "    input_coordinate_system = 0\n",
    "    output_coordinate_system = 0\n",
    "    b_neu = model.eval(mjd2000, coords, input_coordinate_system, output_coordinate_system)\n",
    "    # Inclination (I), declination (D), intensity (F)\n",
    "    inc, dec, F = eoxmagmod.vincdecnorm(b_neu)\n",
    "    return {\"X\": b_neu[:,:,0], \"Y\": b_neu[:,:,1], \"Z\": -b_neu[:,:,2],\n",
    "            \"I\": inc, \"D\":dec, \"F\":F}\n",
    "\n",
    "def eval_model_on_grid(model=eoxmagmod.data.IGRF13, heights=range(0, 1000, 100)):\n",
    "    ds_set = []\n",
    "    for height in heights:\n",
    "        coords=grid(180, 360, height)\n",
    "        output = eval_model(coords=coords, shc_model=model)\n",
    "        _ds = xr.Dataset(\n",
    "            {\n",
    "                \"Z\": ((\"y\", \"x\"), output[\"Z\"]),\n",
    "                \"X\": ((\"y\", \"x\"), output[\"X\"]),\n",
    "                \"Y\": ((\"y\", \"x\"), output[\"Y\"]),\n",
    "            },\n",
    "            coords={\"lat\": ((\"y\", \"x\"), coords[:,:,0]), \"lon\": ((\"y\", \"x\"), coords[:,:,1])}\n",
    "        )\n",
    "        _ds = _ds.assign_coords({\"height\": height})\n",
    "        ds_set += [_ds]\n",
    "    ds = xr.concat(ds_set, dim=\"height\")\n",
    "    ds[\"height\"].attrs = {\"units\": \"km\"}\n",
    "    return ds"
   ]
  },
  {
   "cell_type": "markdown",
   "id": "11bccddf",
   "metadata": {},
   "source": [
    "## Core field"
   ]
  },
  {
   "cell_type": "code",
   "execution_count": null,
   "id": "f9b9e05d",
   "metadata": {
    "tags": [
     "hide-cell"
    ]
   },
   "outputs": [],
   "source": [
    "ds_igrf = eval_model_on_grid(\n",
    "    model=eoxmagmod.data.IGRF13,\n",
    "    heights=range(-3000, 3000, 500)\n",
    ")\n",
    "ds_igrf"
   ]
  },
  {
   "cell_type": "code",
   "execution_count": null,
   "id": "f389458d",
   "metadata": {
    "tags": [
     "hide-input"
    ]
   },
   "outputs": [],
   "source": [
    "ds_igrf.hvplot.contourf(x=\"lon\", y=\"lat\", z=\"Z\", levels=30)"
   ]
  },
  {
   "cell_type": "markdown",
   "id": "6759f859",
   "metadata": {},
   "source": [
    "## Lithospheric field"
   ]
  },
  {
   "cell_type": "code",
   "execution_count": null,
   "id": "c19662ff",
   "metadata": {
    "tags": [
     "hide-cell"
    ]
   },
   "outputs": [],
   "source": [
    "ds_crust = eval_model_on_grid(\n",
    "    model=eoxmagmod.data.CHAOS_STATIC_LATEST,\n",
    "    heights=range(0, 1000, 100)\n",
    ")\n",
    "ds_crust"
   ]
  },
  {
   "cell_type": "code",
   "execution_count": null,
   "id": "5edcd810",
   "metadata": {
    "tags": [
     "hide-input"
    ]
   },
   "outputs": [],
   "source": [
    "ds_crust.hvplot.contourf(x=\"lon\", y=\"lat\", z=\"Z\", levels=30, clim=(-100, 100), xlim=(-180, 180), ylim=(-90, 90))"
   ]
  }
 ],
 "metadata": {
  "kernelspec": {
   "display_name": "Python 3",
   "language": "python",
   "name": "python3"
  },
  "language_info": {
   "codemirror_mode": {
    "name": "ipython",
    "version": 3
   },
   "file_extension": ".py",
   "mimetype": "text/x-python",
   "name": "python",
   "nbconvert_exporter": "python",
   "pygments_lexer": "ipython3",
   "version": "3.8.8"
  }
 },
 "nbformat": 4,
 "nbformat_minor": 5
}
