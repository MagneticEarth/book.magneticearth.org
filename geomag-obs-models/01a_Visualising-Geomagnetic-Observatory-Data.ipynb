{
 "cells": [
  {
   "cell_type": "markdown",
   "id": "2c32df6b",
   "metadata": {},
   "source": [
    "# Visualising geomagnetic data"
   ]
  },
  {
   "cell_type": "markdown",
   "id": "18410763",
   "metadata": {
    "tags": [],
    "user_expressions": []
   },
   "source": [
    "```{tip}\n",
    "If you are viewing this on the web, you will not be able to use the interactive components - you will need to be in an active JupyterLab. For this you can use the Swarm Virtual Research Environment service (after first creating a free account). Just hover over the rocket button at the top of this page and select JupyterHub to get started.\n",
    "```"
   ]
  },
  {
   "cell_type": "code",
   "execution_count": null,
   "id": "e842ddd2",
   "metadata": {
    "tags": [
     "hide-cell"
    ]
   },
   "outputs": [],
   "source": [
    "## Uncomment here to autoreload local modules as you edit them\n",
    "# %load_ext autoreload\n",
    "# %autoreload 2\n",
    "\n",
    "import datetime as dt\n",
    "import numpy as np\n",
    "import pandas as pd\n",
    "import matplotlib.pyplot as plt\n",
    "import ipywidgets as widgets\n",
    "from viresclient import SwarmRequest\n",
    "\n",
    "## Use to make interactive matplotlib plots\n",
    "##  - doesn't work smoothly\n",
    "##  - investigating using plotly/bokeh instead\n",
    "# %matplotlib widget\n",
    "\n",
    "%load_ext watermark\n",
    "%watermark -i -v -p numpy,pandas,xarray,matplotlib,ipywidgets,viresclient"
   ]
  },
  {
   "cell_type": "markdown",
   "id": "61b200b7",
   "metadata": {
    "user_expressions": []
   },
   "source": [
    "## Fetching & loading INTERMAGNET data"
   ]
  },
  {
   "cell_type": "markdown",
   "id": "89bb797b",
   "metadata": {
    "tags": [],
    "user_expressions": []
   },
   "source": [
    "[INTERMAGNET](https://intermagnet.github.io/) is the International Real-time Magnetic Observatory Network, a global network of observatories continually monitoring Earth's magnetic field.\n",
    "\n",
    "Here we use [VirES](https://earth.esa.int/eogateway/tools/vires-for-swarm) to access some ground observatory data [(see here for more)](https://notebooks.vires.services/notebooks/04c2_geomag-ground-data-vires). The following code helps you download the data for a given observatory for a given year, and load them as a Pandas Dataframe. Check <http://intermagnet.org/new_data_download.html> for other ways to access these data.\n",
    "\n",
    "We will select data from 2003 measured at [the Eskdalemuir observatory (ESK)](http://www.geomag.bgs.ac.uk/operations/eskdale.html) in Scotland, which has a latitude of 55.314° N. If you wish you can select data from a different year or observatory (check [this map of INTERMAGNET observatories](https://intermagnet.github.io/metadata/) to find the three-letter code that specifies the observatory).\n",
    "\n",
    "NB: Data is provided in the NEC (North, East, Centre) geocentrically-defined frame, in contrast to INTERMAGNET data from other sources where the geodetic frame is used. This results in a small rotation in the North (X) and Centre (Z) vectors and a slightly different \"latitude\" for the observatory location."
   ]
  },
  {
   "cell_type": "code",
   "execution_count": null,
   "id": "d4cb9c92",
   "metadata": {
    "tags": [
     "hide-input"
    ]
   },
   "outputs": [],
   "source": [
    "def fetch_obs_data_for_years(\n",
    "    observatory=\"ESK\", year_start=2003, year_end=2003, cadence=\"M\",\n",
    "    use_xarray=False, **kwargs\n",
    "):\n",
    "    \"\"\"Fetch given years of observatory data from VirES, at minute (M) or hour (H) cadence\n",
    "\n",
    "    Args:\n",
    "        observatory (str): 3-letter IAGA code\n",
    "        year_start (int): Chosen year to start\n",
    "        year_end (int): Year to end with (inclusive)\n",
    "        cadence (str): \"M\" for minute, or \"H\" for hour\n",
    "        use_xarray (bool): Return xarray.Dataset instead\n",
    "\n",
    "    Returns:\n",
    "        DataFrame\n",
    "    \"\"\"\n",
    "    # Fetch data from VirES\n",
    "    request = SwarmRequest()\n",
    "    request.set_collection(f\"SW_OPER_AUX_OBS{cadence}2_:{observatory}\", verbose=False)\n",
    "    request.set_products(measurements=[\"B_NEC\", \"IAGA_code\"])\n",
    "    data = request.get_between(\n",
    "        dt.datetime(year_start, 1, 1),\n",
    "        dt.datetime(year_end+1, 1, 1),\n",
    "        **kwargs\n",
    "    )\n",
    "    if use_xarray:\n",
    "        ds = data.as_xarray().drop(\"Spacecraft\")\n",
    "        return ds\n",
    "    else:\n",
    "        # Load data in Pandas Dataframe with X, Y, Z columns\n",
    "        df = data.as_dataframe(expand=True).drop(columns=\"Spacecraft\")\n",
    "        df = df.rename(columns={f\"B_NEC_{i}\": j for i, j in zip(\"NEC\", \"XYZ\")})\n",
    "        return df\n",
    "\n",
    "\n",
    "obs_minute = fetch_obs_data_for_years(\n",
    "    observatory=\"ESK\",\n",
    "    year_start=2003,\n",
    "    year_end=2003,\n",
    "    cadence=\"M\",\n",
    ")\n",
    "obs_minute.head()"
   ]
  },
  {
   "cell_type": "markdown",
   "id": "8a8e0aa4",
   "metadata": {
    "user_expressions": []
   },
   "source": [
    "## Plotting 1-minute data and their hourly means"
   ]
  },
  {
   "cell_type": "markdown",
   "id": "83d260dc",
   "metadata": {
    "user_expressions": []
   },
   "source": [
    "This next code cell creates an interactive element that lets you view the data loaded above."
   ]
  },
  {
   "cell_type": "code",
   "execution_count": null,
   "id": "d1bd370c",
   "metadata": {
    "tags": [
     "hide-input"
    ]
   },
   "outputs": [],
   "source": [
    "def plot_subset_timeseries(start_date, end_date, hourly_mean=False, show_annual_mean=False, df=obs_minute):\n",
    "    \"\"\"Configurably plot a subset of the data\n",
    "\n",
    "    Args:\n",
    "        start_date (datetime)\n",
    "        end_date (datetime)\n",
    "        hourly_mean (bool): Evaluate and plot the hourly means instead\n",
    "        show_annual_mean (bool): Show offset from annual mean\n",
    "        df (DataFrame): Assumed to be of form output from fetch_obs_data_for_year\n",
    "\n",
    "    Returns:\n",
    "        Figure\n",
    "    \"\"\"\n",
    "    # Evaluate annual means to use later,\n",
    "    #   reindexed with the ending index points for each year\n",
    "    annual_mean = df.resample(\"1y\").mean()\n",
    "    annual_mean.index = [df.loc[str(year)].index[-1] for year in df.index.year.unique()]\n",
    "    # Subset dataframe to selection\n",
    "    df = df.loc[start_date:end_date]\n",
    "    # Cut the annual mean (and reindex) to match df\n",
    "    #  so we can use it directly in ax.fill_between\n",
    "    annual_mean = annual_mean.loc[str(start_date.year):str(end_date.year)]\n",
    "    annual_mean = annual_mean.reindex(index=df.index, method=\"backfill\")\n",
    "    observatory = df[\"IAGA_code\"][0]\n",
    "    title = f\"Minute data from {observatory}\"\n",
    "    if hourly_mean:\n",
    "        df = df.resample(\"1h\").mean()\n",
    "        annual_mean = annual_mean.reindex(index=df.index)\n",
    "        title += \": averaged over each hour\"\n",
    "    if show_annual_mean:\n",
    "        title += \"\\nshowing offset from annual mean\"\n",
    "    fig, axes = plt.subplots(nrows=3, figsize=(10, 7), sharex=True)\n",
    "    for i, cpt in enumerate(\"XYZ\"):\n",
    "        if show_annual_mean:\n",
    "            axes[i].fill_between(df.index, df[cpt], annual_mean[cpt])\n",
    "        else:\n",
    "            axes[i].plot(df[cpt])\n",
    "        axes[i].set_ylabel(f\"{cpt} (nT)\")\n",
    "        axes[i].grid()\n",
    "    fig.suptitle(title)\n",
    "    axes[2].set_xlabel(\"Date\")\n",
    "    fig.tight_layout()\n",
    "    return fig\n",
    "\n",
    "\n",
    "def make_widgets_minute_data():\n",
    "    \"\"\"Use ipywidgets to interact with plot_subset_timeseries\"\"\"\n",
    "    mini, maxi = obs_minute.index.min().date(), obs_minute.index.max().date()\n",
    "    start_date = widgets.DatePicker(\n",
    "        value=mini,\n",
    "        description='Start Date',\n",
    "    )\n",
    "    end_date = widgets.DatePicker(\n",
    "        value=dt.datetime(mini.year, mini.month+1, mini.day),\n",
    "        description='End Date',\n",
    "    )\n",
    "    hourly_mean = widgets.Checkbox(\n",
    "        value=True,\n",
    "        description='Hourly mean',\n",
    "    )\n",
    "    annual_mean = widgets.Checkbox(\n",
    "        value=True,\n",
    "        description='Show annual mean',\n",
    "    )\n",
    "    return widgets.VBox(\n",
    "        [widgets.Label(f\"Select dates within range: {mini}, {maxi}\"),\n",
    "         widgets.HBox([start_date, end_date, widgets.VBox([hourly_mean, annual_mean])]),\n",
    "         widgets.interactive_output(\n",
    "             plot_subset_timeseries,\n",
    "             {'start_date': start_date, 'end_date': end_date, 'hourly_mean': hourly_mean, 'show_annual_mean': annual_mean}\n",
    "         )]\n",
    "    )\n",
    "\n",
    "\n",
    "make_widgets_minute_data()"
   ]
  },
  {
   "cell_type": "markdown",
   "id": "e231d0d2",
   "metadata": {},
   "source": [
    "```{note}\n",
    "What signals can you see in this data?\n",
    "```\n",
    "\n",
    "```{toggle}\n",
    "- Daily oscillation: due to the rotation of the Earth driving ionospheric change through the day/night - this is the Sq variation (\"solar quiet-day\" variation)\n",
    "- Shift in baseline over the year: due to the change in the main magnetic field from the core - this is the secular variation (SV)\n",
    "- More random variations due to geomagnetic activity\n",
    "```"
   ]
  },
  {
   "cell_type": "markdown",
   "id": "cfebde96",
   "metadata": {},
   "source": [
    "## Daily, seasonal and solar variations in declination"
   ]
  },
  {
   "cell_type": "markdown",
   "id": "c24baeba",
   "metadata": {},
   "source": [
    "Let's now fetch the hourly dataset - these data are specially processed to improve data quality, over the straightforward hourly means calculated above from the minute data. For more information, see [Macmillan, S., Olsen, N. Observatory data and the Swarm mission. Earth Planet Sp 65, 15 (2013). https://doi.org/10.5047/eps.2013.07.011](https://doi.org/10.5047/eps.2013.07.011)"
   ]
  },
  {
   "cell_type": "code",
   "execution_count": null,
   "id": "087a2d68",
   "metadata": {
    "tags": [
     "hide-cell"
    ]
   },
   "outputs": [],
   "source": [
    "obs_hourly = fetch_obs_data_for_years(\n",
    "    observatory=\"ESK\",\n",
    "    year_start=1900,\n",
    "    year_end=2020,\n",
    "    cadence=\"H\",\n",
    "    # additional kwargs for vireslient.SwarmRequest.get_between()\n",
    "    asynchronous=False,  # Make synchronous requests (faster)\n",
    "                         #  - only works for smaller data chunks\n",
    "                         #  - implicitly disables \"Processing\" progress bar\n",
    "    show_progress=False,        # Disable intermediate progress bars\n",
    "    # leave_intermediate_progress_bars=False,  # Clean up bars as we go\n",
    "    # show_progress_chunks=False  # Disable \"Processing chunks\" progress bar\n",
    ")"
   ]
  },
  {
   "cell_type": "markdown",
   "id": "0aa36b89",
   "metadata": {},
   "source": [
    "We will evaluate the declination angle, D, the horizontal deviation of the field from geographic North [(what are the geomagnetic components?)](https://intermagnet.github.io/faq/10.geomagnetic-comp.html)\n",
    "\n",
    "Next we summarise the data further by aggregating measurements over each month, evaluating the mean values over hourly intervals. For example, the mean declination at 10am across all days in January, the mean at 11am, and so on, repeated for each time of day and for each month. We then evaluate the offset of these declinations from the mean over the whole of each month - this is stored in `D_variation` in the resulting dataframe."
   ]
  },
  {
   "cell_type": "code",
   "execution_count": null,
   "id": "e8054a78",
   "metadata": {
    "tags": [
     "hide-input"
    ]
   },
   "outputs": [],
   "source": [
    "def monthly_means(df=obs_hourly):\n",
    "    \"\"\"Return MultIndex DataFrame of monthly means over each hourly interval\"\"\"\n",
    "    # Append hour of day, and approx fractional year, to use for plotting\n",
    "    df[\"t_hour\"] = df.index.map(lambda x: x.hour + x.minute/60)\n",
    "    epoch = pd.to_datetime(0, unit='s').to_julian_date()\n",
    "    df[\"t_year\"] = df.index.map(lambda x: x.year + (x.month-.5)/12)\n",
    "    # Calculate the monthly mean for each hourly interval of the day\n",
    "    monthly = df.groupby([df.index.year, df.index.month, df.index.hour]).mean()\n",
    "    monthly.index.names = [\"Year\", \"Month\", \"Hour\"]\n",
    "    # Calculate the monthly mean over all hourly intervals\n",
    "    monthly_all = df.groupby([df.index.year, df.index.month]).mean()\n",
    "    # Calculate the daily declination variations:\n",
    "    #   the monthly average of the hourly intervals minus the total monthly mean\n",
    "    monthly[\"D_variation\"] = monthly['D'].values - monthly_all['D'].values.repeat(24)\n",
    "    return monthly\n",
    "\n",
    "\n",
    "obs_hourly[\"D\"] = np.rad2deg(np.arctan2(obs_hourly[\"Y\"], obs_hourly[\"X\"]))\n",
    "obs_monthly = monthly_means(obs_hourly)\n",
    "obs_monthly"
   ]
  },
  {
   "cell_type": "code",
   "execution_count": null,
   "id": "4dba5fef",
   "metadata": {
    "tags": [
     "hide-input"
    ]
   },
   "outputs": [],
   "source": [
    "def plot_dec_variation(df=obs_monthly, year_range=(1986, 1997)):\n",
    "    \"\"\"Make surface plot of declination variation against UT and Year\"\"\"\n",
    "    year_start, year_end = year_range\n",
    "    # Make subselection to plot, slicing along years\n",
    "    df = df.loc[slice(year_start, year_end), :]\n",
    "    fig, ax = plt.subplots(1, 1, figsize=(10, 10), subplot_kw={\"projection\": \"3d\"})\n",
    "    ax.plot_trisurf(\n",
    "        df[\"t_year\"], df[\"t_hour\"], df[\"D_variation\"],\n",
    "        cmap=plt.cm.jet, vmin=-0.15, vmax=0.15, antialiased=True\n",
    "    )\n",
    "    ax.set_xlabel(\"Year\")\n",
    "    ax.set_ylabel(\"Hour (UT)\")\n",
    "    ax.set_zlabel(\"D variations (degrees)\")\n",
    "    ax.view_init(elev=60, azim=210)\n",
    "    return fig, ax\n",
    "\n",
    "\n",
    "def make_widgets_dec_variation():\n",
    "    year_min = obs_monthly.index[0][0]\n",
    "    year_max = obs_monthly.index[-1][0]\n",
    "    year_range = widgets.IntRangeSlider(\n",
    "        value=(1986, 2008),\n",
    "        min=year_min, max=year_max,\n",
    "        description=\"Year range:\"\n",
    "    )\n",
    "    return widgets.VBox([\n",
    "        year_range,\n",
    "        widgets.interactive_output(\n",
    "            plot_dec_variation,\n",
    "            {\"year_range\": year_range}\n",
    "        )\n",
    "    ])\n",
    "\n",
    "\n",
    "make_widgets_dec_variation()"
   ]
  },
  {
   "cell_type": "markdown",
   "id": "b0455c5f",
   "metadata": {},
   "source": [
    "## Organising by the Bartels rotation number"
   ]
  },
  {
   "cell_type": "markdown",
   "id": "cb3dce74",
   "metadata": {},
   "source": [
    "Solar rotations are numbered by the Bartels solar rotation number, with Day 1 of rotation 1 chosen as 8th February 1832. In this section, hourly mean values for 2003 at Eskdalemuir Observatory are plotted ordered by Bartels rotation number (the X, Y and Z geomagnetic components may be selected below.) The plot shows a number of the features of geomagnetic field behaviour:\n",
    "\n",
    "1. The annual mean is plotted as a horizontal line in each row dividing the plots into sections ‘above’ and ‘below’ the mean. The proportions of the plots above and below changes as the year progresses because of the slow core field changes with time the secular variation.\n",
    "2. The daily variation in each element is clear. Note the differences between winter and summer, which we also saw in the 3D contour plot above.\n",
    "3. Although substantially attenuated by taking hourly means, times of magnetic disturbances are obvious.\n",
    "4. The rows are plotted 27 days long because the equatorial rotation period, as seen from Earth, is approximately 27 days. As a result, if a region on the Sun responsible for a disturbance on one day survives a full rotation, it may cause a further disturbance 27 days later and this will line up vertically in the plots.\n",
    "\n",
    "This plot reproduces an example found in the Eskdalemuir monthly bulletin of December 2003, which can be found at <http://geomag.bgs.ac.uk/data_service/data/bulletins/esk/2003/esk_dec03.pdf> (pages 22-24)."
   ]
  },
  {
   "cell_type": "code",
   "execution_count": null,
   "id": "bc062ef4",
   "metadata": {
    "tags": [
     "hide-input"
    ]
   },
   "outputs": [],
   "source": [
    "def bartels_rotation(datetime):\n",
    "    \"\"\"Return the Bartels rotation numbers and day and hour within each rotation\n",
    "\n",
    "    Args:\n",
    "        date (datetime/DatetimeIndex)\n",
    "\n",
    "    Returns:\n",
    "        tuple (rotation number, day within rotation, hour within day)\n",
    "\n",
    "    \"\"\"\n",
    "    if isinstance(datetime, pd.DatetimeIndex):\n",
    "        date, hour = datetime.date, datetime.hour\n",
    "    elif isinstance(datetime, dt.datetime):\n",
    "        date, hour = datetime.date(), datetime.hour\n",
    "    # Number of days since Bartels 0\n",
    "    ndays = pd.to_timedelta(date - dt.date(1832, 2, 8)).days\n",
    "    bartels_rotation = ndays//27 + 1\n",
    "    day = ndays % 27 + 1\n",
    "    return bartels_rotation, day, hour\n",
    "\n",
    "\n",
    "def reform_dataframe_for_Bartels_plot(df=obs_hourly):\n",
    "    \"\"\"Reforms an observatory dataframe ready for the Bartels plot\n",
    "\n",
    "    1. Appends annual means\n",
    "    2. Replaces the DatetimeIndex with a MultiIndex of rotation number and day\n",
    "\n",
    "    Args:\n",
    "        df (DataFrame)\n",
    "\n",
    "    Returns:\n",
    "        DataFrame\n",
    "\n",
    "    \"\"\"\n",
    "    df = df.copy()\n",
    "\n",
    "    # Evaluate the annual means\n",
    "    annual_means = df[[\"X\", \"Y\", \"Z\"]].resample(\"1y\").mean()\n",
    "    annual_means = annual_means.rename(columns={\"X\": \"X_mean\", \"Y\": \"Y_mean\", \"Z\": \"Z_mean\"})\n",
    "    # Identify the year-end index times\n",
    "    year_ends = [df.loc[str(year)].index[-1] for year in df.index.year.unique()]\n",
    "    # Remove unused years from annual means\n",
    "    missing_years = set(annual_means.index.year) - set([i.year for i in year_ends])\n",
    "    annual_means = annual_means.drop(\n",
    "        [pd.to_datetime(f\"{year}-12-31\") for year in missing_years]\n",
    "    )\n",
    "    # Match annual_means index to input index\n",
    "    annual_means.index = year_ends\n",
    "    # Infill the means into the input dataframe\n",
    "    annual_means = annual_means.reindex(index=df.index, method=\"backfill\")\n",
    "    df = df.join(annual_means)\n",
    "\n",
    "    # Preserve the original index as a column\n",
    "    df[\"time\"] = df.index\n",
    "    # Replace the index with a MultiIndex of the Bartels rotation number\n",
    "    # and the fractional day within each rotation\n",
    "    bartrot, bartrotday, hourofday = bartels_rotation(df.index)\n",
    "    df.index = pd.MultiIndex.from_arrays(\n",
    "        (bartrot, bartrotday + hourofday/24), names=(\"bartrot\", \"bartrotday\")\n",
    "    )\n",
    "    return df\n",
    "\n",
    "\n",
    "def plot_by_Bartels_rotation(df=obs_hourly, year=2003, var=\"Y\"):\n",
    "    \"\"\"Plot the hourly data organised by Bartels rotation\"\"\"\n",
    "    # Trim dataframe to chosen year and reform it\n",
    "    df = reform_dataframe_for_Bartels_plot(obs_hourly.loc[str(year)])\n",
    "\n",
    "    bartrots = range(df.index[0][0], df.index[-1][0] + 1)\n",
    "    fig, axes = plt.subplots(\n",
    "        nrows=len(bartrots), ncols=1, figsize=(10, 10),\n",
    "        gridspec_kw={'hspace': 0},\n",
    "        sharex=True, sharey=True\n",
    "    )\n",
    "    for bartrot, ax in zip(bartrots, axes):\n",
    "        x = df.loc[bartrot].index\n",
    "        y0 = df.loc[bartrot][f\"{var}_mean\"]\n",
    "        y1 = df.loc[bartrot][f\"{var}\"]\n",
    "        ax.plot(x, y0, color=\"black\", linewidth=0.4)\n",
    "        ax.plot(x, y1, color=\"black\", linewidth=0.8, clip_on=False)\n",
    "        ax.fill_between(\n",
    "            x, y0, y1, where=y1 < y0,\n",
    "            facecolor='lightblue', interpolate=True, zorder=9#, clip_on=False currently causes a bug\n",
    "        )\n",
    "        ax.fill_between(\n",
    "            x, y0, y1, where=y1 >= y0,\n",
    "            facecolor='pink', interpolate=True, zorder=10#, clip_on=False\n",
    "        )\n",
    "        ax_r = ax.twinx()\n",
    "        ax_r.set_ylabel(bartrot, fontsize=10)\n",
    "        ax_r.set_yticks([])\n",
    "        # some magic which enables lines from one axis to show on top of other axes\n",
    "        ax.patch.set_visible(False)\n",
    "\n",
    "        # Add text identifying the start of each month\n",
    "        month_starts = df[\"time\"].where(\n",
    "            (df[\"time\"].dt.day == 1) & (df[\"time\"].dt.hour == 0)\n",
    "        ).dropna()\n",
    "        if bartrot in month_starts.keys():\n",
    "            bartrotday = float(month_starts.loc[bartrot].index.values)\n",
    "            month = month_starts.loc[bartrot].dt.strftime(\"%b\").values[0]\n",
    "            ax.text(bartrotday, y0.iloc[0] - 85, month, verticalalignment=\"top\")\n",
    "\n",
    "    ax.set_ylim((y0.iloc[0] - 75, y0.iloc[0] + 75))\n",
    "    ax.set_xlabel(\"Day within Bartels rotation\")\n",
    "    axes[0].set_title(\n",
    "        f\"{df['IAGA_code'].iloc[0]}: {year}: {var} (nT, left axis), by Bartels rotation number (right axis)\",\n",
    "        fontsize=15\n",
    "    )\n",
    "    return fig, axes\n",
    "\n",
    "\n",
    "def make_widgets_Bartels_plot():\n",
    "    year_min = obs_hourly.index.year.min()\n",
    "    year_max = obs_hourly.index.year.max()\n",
    "    year = widgets.IntSlider(value=2003, min=year_min, max=year_max, description=\"Year:\")\n",
    "    component = widgets.Dropdown(options=\"XYZ\", value=\"Y\", description=\"Component:\")\n",
    "    return widgets.VBox([\n",
    "        widgets.HBox([year, component]),\n",
    "        widgets.interactive_output(\n",
    "            plot_by_Bartels_rotation,\n",
    "            {\"year\": year, \"var\": component}\n",
    "        )\n",
    "    ])\n",
    "\n",
    "\n",
    "make_widgets_Bartels_plot()"
   ]
  },
  {
   "cell_type": "markdown",
   "id": "cfe1c2e8",
   "metadata": {
    "tags": []
   },
   "source": [
    "## Geomagnetic jerks\n",
    "\n",
    "Geomagnetic jerks are rapid changes in the trend of secular variation (SV), traditionally thought of as a ‘V’ (or inverted ‘V’) shape punctuating several years or decades of roughly linear SV. They are of internal origin, possibly linked to hydromagnetic wave motions in Earth’s fluid outer core, and occur at irregular intervals on average about once per decade. Their magnitudes vary according to location, with some events observed globally (e.g. 1969) and others confined to regional scales (e.g. 2003). In this section, we plot SV calculated as first differences of observatory annual means to see various geomagnetic jerks.\n",
    "\n",
    "We will fetch hourly data again, but this time for three observatories: Eskdalemuir [ESK], Niemegk [NGK] and Chambon-la-Foret [CLF]. We evaluate the annual mean and the year-to-year differences (i.e. the annual secular variation, in nT/year). Annual means are also available directly from <http://www.geomag.bgs.ac.uk/data_service/data/annual_means.shtml>"
   ]
  },
  {
   "cell_type": "code",
   "execution_count": null,
   "id": "46fd5b60",
   "metadata": {
    "tags": [
     "hide-cell"
    ]
   },
   "outputs": [],
   "source": [
    "def fetch_annual_means(observatories):\n",
    "    \"\"\"Collect annual means from given observatories\"\"\"\n",
    "    annual_means = {}\n",
    "    for i, obs in enumerate(observatories):\n",
    "        print(f\"Fetching {obs} [{i+1}/{len(observatories)}]\")\n",
    "        df = fetch_obs_data_for_years(\n",
    "            observatory=obs,\n",
    "            year_start=1900,\n",
    "            year_end=2020,\n",
    "            cadence=\"H\",\n",
    "            asynchronous=False,\n",
    "            show_progress=False,\n",
    "        )\n",
    "        df = df.resample(\"1y\").mean()\n",
    "        df.index = df.index.year\n",
    "        df.index.name = \"Year\"\n",
    "        annual_means[obs] = df\n",
    "    return annual_means\n",
    "\n",
    "\n",
    "observatories = [\"ESK\", \"NGK\", \"CLF\"]\n",
    "annual_means = fetch_annual_means(observatories)"
   ]
  },
  {
   "cell_type": "code",
   "execution_count": null,
   "id": "c7c7c1af",
   "metadata": {
    "tags": [
     "hide-cell"
    ]
   },
   "outputs": [],
   "source": [
    "# Append annual differences\n",
    "for obs in annual_means.keys():\n",
    "    # First differences = first derivative = secular variation\n",
    "    diffs = annual_means[obs][[\"X\", \"Y\", \"Z\"]].diff()\n",
    "    # Second differences = seconda derivative = secular acceleration\n",
    "    diffs2 = diffs.diff()\n",
    "    diffs = diffs.rename(columns={\"X\": \"dX\", \"Y\": \"dY\", \"Z\": \"dZ\"})\n",
    "    diffs2 = diffs2.rename(columns={\"X\": \"ddX\", \"Y\": \"ddY\", \"Z\": \"ddZ\"})\n",
    "    annual_means[obs] = annual_means[obs].join(diffs)\n",
    "    annual_means[obs] = annual_means[obs].join(diffs2)\n",
    "\n",
    "# Now each dataframe from each observatory looks like this:\n",
    "annual_means[\"ESK\"]"
   ]
  },
  {
   "cell_type": "code",
   "execution_count": null,
   "id": "a930bf19",
   "metadata": {},
   "outputs": [],
   "source": [
    "annual_means.keys()"
   ]
  },
  {
   "cell_type": "code",
   "execution_count": null,
   "id": "a590e034",
   "metadata": {
    "tags": [
     "hide-input"
    ]
   },
   "outputs": [],
   "source": [
    "def plot_secular_variation(df_set=annual_means, observatory=\"ESK\"):\n",
    "    # Select dataframe for chosen observatory\n",
    "    df = df_set[observatory]\n",
    "    fig, axes = plt.subplots(nrows=6, figsize=(10,7), sharex=True)\n",
    "    colors = plt.rcParams[\"axes.prop_cycle\"].by_key()[\"color\"]\n",
    "    labels = {\n",
    "        \"dX\": \"dX/dt (nT/yr)\", \"dY\": \"dY/dt (nT/yr)\", \"dZ\": \"dZ/dt (nT/yr)\",\n",
    "        \"ddX\": \"d$^2$X/dt$^2$\", \"ddY\": \"d$^2$Y/dt$^2$\", \"ddZ\": \"d$^2$Z/dt$^2$\"\n",
    "    }\n",
    "    for (i, (var1, var2)) in enumerate(zip([\"dX\", \"dY\", \"dZ\"], [\"ddX\", \"ddY\", \"ddZ\"])):\n",
    "        axes[2*i].plot(df[var1], color=colors[i], marker=\"x\")\n",
    "        axes[2*i].set_ylabel(labels[var1])\n",
    "        axes[2*i+1].plot(df[var2], color=colors[i], alpha=0.5, marker=\"x\")\n",
    "        axes[2*i+1].set_ylabel(labels[var2])\n",
    "        axes[2*i].grid()\n",
    "        axes[2*i+1].grid()\n",
    "    axes[-1].set_xlabel(\"Year\")\n",
    "    fig.suptitle(f\"Secular variation at {observatory}\")\n",
    "\n",
    "\n",
    "def make_widgets_secular_variation():\n",
    "    obs_choice = widgets.Dropdown(options=annual_means.keys())\n",
    "    return widgets.VBox([\n",
    "        obs_choice,\n",
    "        widgets.interactive_output(\n",
    "            plot_secular_variation,\n",
    "            {\"observatory\": obs_choice}\n",
    "        )\n",
    "    ])\n",
    "\n",
    "\n",
    "make_widgets_secular_variation()"
   ]
  },
  {
   "cell_type": "markdown",
   "id": "3454e389",
   "metadata": {},
   "source": [
    "A sudden change in the field is quite clear in the secular variation (e.g. dY/dt for ESK around 1970), but the change is not obvious in the secular acceleration in the way that we have calculated it (one would expect a sudden jump from negative to positive acceleration there)! Some more careful processing is needed in order to make the change in the secular acceleration clear."
   ]
  }
 ],
 "metadata": {
  "kernelspec": {
   "display_name": "Python 3 (ipykernel)",
   "language": "python",
   "name": "python3"
  },
  "language_info": {
   "codemirror_mode": {
    "name": "ipython",
    "version": 3
   },
   "file_extension": ".py",
   "mimetype": "text/x-python",
   "name": "python",
   "nbconvert_exporter": "python",
   "pygments_lexer": "ipython3",
   "version": "3.10.6"
  },
  "toc-autonumbering": true,
  "toc-showcode": false,
  "toc-showmarkdowntxt": false
 },
 "nbformat": 4,
 "nbformat_minor": 5
}
