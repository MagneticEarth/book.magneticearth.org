{
 "cells": [
  {
   "cell_type": "code",
   "execution_count": 1,
   "metadata": {},
   "outputs": [
    {
     "data": {
      "application/vnd.jupyter.widget-view+json": {
       "model_id": "5cc6b0a6872140c5b78487d16573252b",
       "version_major": 2,
       "version_minor": 0
      },
      "text/plain": [
       "Canvas(toolbar=Toolbar(toolitems=[('Home', 'Reset original view', 'home', 'home'), ('Back', 'Back to previous …"
      ]
     },
     "metadata": {},
     "output_type": "display_data"
    }
   ],
   "source": [
    "%matplotlib widget\n",
    "import sys\n",
    "import numpy as np\n",
    "import forwardModel as fw\n",
    "import matplotlib.pyplot as plt\n",
    "\n",
    "\n",
    "# Getting familiar with Lorenz' 1963 model\n",
    "# Control parameters \n",
    "rayleigh = 28 # Value of the Rayleigh number\n",
    "prandtl = 10.\n",
    "b = 8./3.\n",
    "\n",
    "#integration time parameters\n",
    "dt = 1.e-3      # This is time step size\n",
    "T = 30.         # Total integration time\n",
    "n_steps = int( np.ceil( T / dt)  )\n",
    "time = np.linspace(0., T, n_steps + 1, endpoint=True) # array of discrete times\n",
    "\n",
    "#initial condition\n",
    "x0 = np.array( [0., 1., 0.], dtype=float )\n",
    "\n",
    "#numerical integration given initial conditions and control parameters\n",
    "x  = fw.forwardModel_r( x0, time, rayleigh, prandtl, b) \n",
    "\n",
    "#plot result\n",
    "fig, ax = plt.subplots(nrows=3, ncols=1, sharex=True)\n",
    "for k, comp in enumerate ([\"X\",\"Y\",\"Z\"]):\n",
    "    ax[k].plot(time, x[k,:], label='Lorenz 1963')\n",
    "    ax[k].set_ylabel(comp)\n",
    "    ax[k].legend()\n",
    "ax[-1].set_xlabel('Time')\n",
    "ax[-1].set_xlim(time[0],time[-1])\n",
    "plt.show()"
   ]
  },
  {
   "cell_type": "code",
   "execution_count": 10,
   "metadata": {},
   "outputs": [
    {
     "data": {
      "application/vnd.jupyter.widget-view+json": {
       "model_id": "f29b3a398cea4a999a41af26a7dec015",
       "version_major": 2,
       "version_minor": 0
      },
      "text/plain": [
       "Canvas(toolbar=Toolbar(toolitems=[('Home', 'Reset original view', 'home', 'home'), ('Back', 'Back to previous …"
      ]
     },
     "metadata": {},
     "output_type": "display_data"
    }
   ],
   "source": [
    "#Sensitivity to initial condition\n",
    "#Change initial condition and compare solutions\n",
    "epsilon_ic = 2.e-1 # feel free to change this value\n",
    "x0 = np.array( [0., 1.+epsilon_ic, 0.], dtype=float )\n",
    "x2  = fw.forwardModel_r( x0, time, rayleigh, prandtl, b) \n",
    "\n",
    "#Sensitivity to control parameters\n",
    "epsilon_par = .1\n",
    "x0 = np.array( [0., 1, 0.], dtype=float )\n",
    "x3 = fw.forwardModel_r( x0, time, rayleigh+epsilon_par, prandtl, b) \n",
    "\n",
    "#Plot all three trajectories\n",
    "fig, ax = plt.subplots(nrows=3, ncols=1, sharex=True)\n",
    "for k, comp in enumerate ([\"X\",\"Y\",\"Z\"]):\n",
    "    ax[k].plot(time, x[k,:], label='Lorenz 1963')\n",
    "    #ax[k].plot(time, x2[k,:], label=\"pert. IC,$\\epsilon_{IC}$=\"+str(epsilon_ic))\n",
    "    ax[k].plot(time, x3[k,:], label=\"pert. Ra, $\\epsilon_{Ra}$=\"+str(epsilon_par)) # effect of changing the value of one control parameter, Ra\n",
    "    ax[k].set_ylabel( comp )\n",
    "    ax[k].legend( loc='best')\n",
    "ax[-1].set_xlabel('Time')\n",
    "ax[-1].set_xlim(time[0],time[-1])\n",
    "plt.show()"
   ]
  },
  {
   "cell_type": "code",
   "execution_count": null,
   "metadata": {},
   "outputs": [],
   "source": []
  },
  {
   "cell_type": "code",
   "execution_count": null,
   "metadata": {},
   "outputs": [],
   "source": []
  }
 ],
 "metadata": {
  "anaconda-cloud": {},
  "kernelspec": {
   "display_name": "Python 3",
   "language": "python",
   "name": "python3"
  },
  "language_info": {
   "codemirror_mode": {
    "name": "ipython",
    "version": 3
   },
   "file_extension": ".py",
   "mimetype": "text/x-python",
   "name": "python",
   "nbconvert_exporter": "python",
   "pygments_lexer": "ipython3",
   "version": "3.8.8"
  }
 },
 "nbformat": 4,
 "nbformat_minor": 4
}
