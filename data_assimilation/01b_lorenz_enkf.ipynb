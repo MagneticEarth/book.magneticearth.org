{
 "cells": [
  {
   "cell_type": "code",
   "execution_count": null,
   "id": "31c928f2",
   "metadata": {},
   "outputs": [],
   "source": [
    "import numpy as np\n",
    "import forwardModel as fw\n",
    "import matplotlib.pyplot as plt\n",
    "from myEnKF import myEnKF"
   ]
  },
  {
   "cell_type": "code",
   "execution_count": null,
   "id": "5fee19eb",
   "metadata": {},
   "outputs": [],
   "source": [
    "# We define the control parameters here \n",
    "rayleigh = 45 # pick the ones you want\n",
    "prandtl = 10.\n",
    "b = 8./3."
   ]
  },
  {
   "cell_type": "code",
   "execution_count": null,
   "id": "01b7dbdf",
   "metadata": {},
   "outputs": [],
   "source": [
    "#integration time parameter\n",
    "dt = 1.e-3      # This is time step size\n",
    "T = 15.         # Total integration time, can be as short as 10 to speed things up\n",
    "n_steps = int( np.ceil( T / dt)  )\n",
    "time = np.linspace(0., T, n_steps + 1, endpoint=True) # array of discrete times"
   ]
  },
  {
   "cell_type": "code",
   "execution_count": null,
   "id": "90e3fe4d",
   "metadata": {},
   "outputs": [],
   "source": [
    "#initial condition for the true reference trajectory\n",
    "x0 = np.array( [0., 1., 2.], dtype=float );"
   ]
  },
  {
   "cell_type": "code",
   "execution_count": null,
   "id": "7be972f0",
   "metadata": {},
   "outputs": [],
   "source": [
    "#numerical integration given initial conditions and control parameters\n",
    "xt = fw.forwardModel_r( x0, time, rayleigh, prandtl, b) "
   ]
  },
  {
   "cell_type": "code",
   "execution_count": null,
   "id": "ea495576",
   "metadata": {},
   "outputs": [],
   "source": [
    "## How often do we observe the true state? \n",
    "dtobs = 1. # time between observations\n",
    "# Which variables do we observe? \n",
    "WhichVariablesAreObserved = np.array( [1, 1, 1], dtype=float )\n",
    "                    #  Determines which variables are available to\n",
    "                    #  the EnKF. For example:\n",
    "                    #  WhichVariablesAreObserved = [1 1 1]; \n",
    "                    #  means: X, Y, Z are observed\n",
    "                    #  WhichVariablesAreObserved = [1 0 1];\n",
    "                    #  means: X and Z are observed\n",
    "                    #  WhichVariablesAreObserved = [1 0 0];\n",
    "                    # means: X is observed\n",
    "sigobs = 4.  # standard deviation of the observation noise\n",
    "# We generate the synthetic data \n",
    "#  Construct observation matrix H\n",
    "#  ........................................................................\n",
    "H = np.diag( WhichVariablesAreObserved )"
   ]
  },
  {
   "cell_type": "code",
   "execution_count": null,
   "id": "7ffb37d1",
   "metadata": {},
   "outputs": [],
   "source": [
    "y_size = int( np.sum( WhichVariablesAreObserved ) )\n",
    "H = np.zeros( (y_size, 3), dtype=float)\n",
    "iy = 0\n",
    "for ix in range(3):\n",
    "    if WhichVariablesAreObserved[ix] > 0:\n",
    "        H[iy,ix] = 1.\n",
    "        iy = iy + 1"
   ]
  },
  {
   "cell_type": "code",
   "execution_count": null,
   "id": "dee7d50b",
   "metadata": {},
   "outputs": [],
   "source": [
    "nobs = int( np.ceil( T / dtobs ) ) - 1  # number of times observations are performed\n",
    "                                        # no observation at t=0 \n",
    "gap  = int( dtobs/dt )# number of time steps between each observation \n",
    "time_obs = time[gap::gap]\n",
    "# Generate vector of observations\n",
    "y = np.zeros( (y_size, nobs), dtype=float)\n",
    "R = np.diag( np.tile(sigobs**2, y_size) )\n",
    "sqrt_s = np.sqrt(R)\n",
    "# y = Hxt \n",
    "y = np.dot( H, xt[:,gap::gap] )\n",
    "# compute observation error \n",
    "noise = np.dot(sqrt_s , np.random.normal( loc=0., scale=1.0, size=np.shape(y) ) )\n",
    "# y = Hxt + epsilon \n",
    "y = y + noise"
   ]
  },
  {
   "cell_type": "code",
   "execution_count": null,
   "id": "7814c9f6",
   "metadata": {},
   "outputs": [],
   "source": [
    "#\n",
    "# Plot reference trajectory and the observations that will be fed to the EnKF \n",
    "fig, ax = plt.subplots(nrows=3, ncols=1, figsize=(10,7), sharex=True)\n",
    "iobs = 0\n",
    "for k, comp in enumerate ([\"X\",\"Y\",\"Z\"]):\n",
    "    ax[k].plot(time, xt[k,:])\n",
    "    if WhichVariablesAreObserved[k] > 0:\n",
    "        ax[k].errorbar(time_obs, y[iobs,:], yerr=sqrt_s[iobs,iobs], fmt='o', markersize=3, capsize=4, label='obs')\n",
    "        ax[k].legend(bbox_to_anchor=(1.01, 1),loc='upper left', frameon=True)\n",
    "        iobs = iobs + 1\n",
    "    ax[k].set_ylabel(comp)\n",
    "ax[-1].set_xlabel('Time')\n",
    "ax[-1].set_xlim(time[0],time[-1])\n",
    "#plt.show()\n",
    "plt.close()"
   ]
  },
  {
   "cell_type": "code",
   "execution_count": null,
   "id": "141a35da",
   "metadata": {},
   "outputs": [],
   "source": [
    "# Now let us run the Ensemble Kalman Filter\n",
    "# Initialization of the Ensemble\n",
    "Ne = 50                  # Number of ensemble members  \n",
    "x0ens = np.array( [0.,0.,0.], dtype=float ) # The ensemble is centered on a zero initial condition\n",
    "sigens = 10          # standard deviation of the ensemble\n",
    "# initial covariance matrix\n",
    "P0 =(sigens**2)*np.eye(3, dtype=float)\n",
    "#Now run the EnKF \n",
    "xEnKF, x_ens = myEnKF( n_steps, dt, nobs, time_obs, gap, Ne, H, R, y, x0ens, P0, rayleigh, prandtl, b)"
   ]
  },
  {
   "cell_type": "code",
   "execution_count": null,
   "id": "a2378ae1",
   "metadata": {},
   "outputs": [],
   "source": [
    "# Compute Euclidean error wrt true state which is known in this synthetic game\n",
    "# cumulative error\n",
    "cum_error_comp = np.sqrt( np.sum( (xt - xEnKF)**2, axis=1) ) \n",
    "cum_error      = np.sqrt( np.sum( cum_error_comp**2) )\n",
    "norm_comp = np.sqrt( np.sum( xt**2, axis=1) ) \n",
    "norm      = np.sqrt( np.sum( norm_comp**2) )\n",
    "print()\n",
    "print(\" Relative errors in %\")\n",
    "for k, comp in enumerate ([\"X\",\"Y\",\"Z\"]):\n",
    "    print(\"  \"+(comp+\"-component: %4.1f  \") % ( 100.*cum_error_comp[k]/norm_comp[k]) )\n",
    "print()\n",
    "print((\"  3-component: %4.1f  \") % ( 100.*cum_error / norm  ) )"
   ]
  },
  {
   "cell_type": "code",
   "execution_count": null,
   "id": "cb32e790",
   "metadata": {},
   "outputs": [],
   "source": [
    "#Plot results\n",
    "plot_ensemble = True # Change to True if you want to visualize ensemble members\n",
    "fig, ax = plt.subplots(nrows=3, ncols=1, figsize=(10,7), sharex=True)\n",
    "iobs = 0\n",
    "for k, comp in enumerate ([\"X\",\"Y\",\"Z\"]):\n",
    "    ax[k].plot(time, xt[k,:], label='true')\n",
    "    ax[k].plot(time, xEnKF[k,:], label='EnKF')\n",
    "    if plot_ensemble is True:\n",
    "        for e in range(Ne):\n",
    "            ax[k].plot(time, x_ens[k,:,e], c='k', lw=0.1, zorder=-4)\n",
    "    if WhichVariablesAreObserved[k] > 0:\n",
    "        ax[k].errorbar(time_obs, y[iobs,:], yerr=sqrt_s[iobs,iobs], fmt='o', markersize=3, capsize=4, label='obs')\n",
    "        iobs = iobs + 1\n",
    "    ax[k].legend(bbox_to_anchor=(1.01, 1),loc='upper left', frameon=True)\n",
    "    ax[k].set_ylabel(comp)\n",
    "    ax[k].title.set_text( (\"Error for \"+comp+\"-component: %4.1f %% \") % ( 100.*cum_error_comp[k]/norm_comp[k])  )\n",
    "ax[-1].set_xlabel('Time')\n",
    "ax[-1].set_xlim(time[0],time[-1])\n",
    "plt.show()"
   ]
  },
  {
   "cell_type": "markdown",
   "id": "4340af6f",
   "metadata": {},
   "source": [
    "Now consider the following questions: \n",
    "Q1: All other parameters remaining constant, find the maximum value of sigma_obs which leads to an acceptable behaviour of the EnKF (define what you would consider an acceptable behaviour of the EnKF).\n",
    "Q2: Now with all other parameters remaining constant (σobs being equal to the value you just found),findthelargest\n",
    "value of dtobs whichleads to an acceptable behaviour of the EnKF.\n",
    "Q3: Is there a connection between this value and the typical time scale of the dynamics of the model?\n",
    "Q4: Set dt_obs to half the maximum value you just found. \n",
    "Keeping all the other parameter constant, assume now that only X or Y is observed. \n",
    "Comment on the quality of the EnKF estimate based on either option.\n",
    "Q5: It may be that the quality of the results depend strongly on the variable which is observed\n",
    "(X or Y). Would you have an explanation for this, based on a simple analysis of the equations \n",
    "that govern the dynamics of the L63 model?\n",
    "Q6: Q5: All other parameters remaining constant, find the minimum number of elements of the ensemble which leads to a good behaviour of the EnKF."
   ]
  },
  {
   "cell_type": "markdown",
   "id": "88df319f",
   "metadata": {
    "lines_to_next_cell": 2
   },
   "source": [
    "For those done, consider the following question: \n",
    "Is the scatter of the ensemble a good proxy for the error? \n",
    "(keep in mind that in a real situation, we do not know what the truth is, so we need\n",
    "proxies to estimate how good the EnKF is doing"
   ]
  }
 ],
 "metadata": {
  "jupytext": {
   "cell_metadata_filter": "-all",
   "main_language": "python",
   "notebook_metadata_filter": "-all"
  }
 },
 "nbformat": 4,
 "nbformat_minor": 5
}
