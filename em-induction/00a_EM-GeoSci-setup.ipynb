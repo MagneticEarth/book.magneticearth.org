{
 "cells": [
  {
   "cell_type": "markdown",
   "id": "2e4f84b4-e60c-4ab4-bc32-055f843aaeb5",
   "metadata": {
    "editable": true,
    "slideshow": {
     "slide_type": ""
    },
    "tags": []
   },
   "source": [
    "# EM GeoSci Apps"
   ]
  },
  {
   "cell_type": "markdown",
   "id": "e7e5f9ba-74b6-4252-a50a-054864b12444",
   "metadata": {},
   "source": [
    "- See <https://em.geosci.xyz> for more information\n",
    "- Instructions for running the apps using Binder: <https://em.geosci.xyz/apps.html>\n",
    "\n",
    "***Follow the steps below to use some of the apps directly in the Swarm VRE***"
   ]
  },
  {
   "cell_type": "markdown",
   "id": "260d8214-bef7-4ab6-828a-c32a15a09a84",
   "metadata": {},
   "source": [
    "## Set up the GeoSci apps environment"
   ]
  },
  {
   "cell_type": "code",
   "execution_count": null,
   "id": "6491990c-e2cd-4e66-931d-2253900e5daf",
   "metadata": {
    "editable": true,
    "slideshow": {
     "slide_type": ""
    },
    "tags": [
     "hide-output"
    ]
   },
   "outputs": [],
   "source": [
    "!git clone https://github.com/geoscixyz/em-apps"
   ]
  },
  {
   "cell_type": "code",
   "execution_count": null,
   "id": "48aa8831-a1e1-4124-896a-7cd5fba7bb91",
   "metadata": {
    "editable": true,
    "scrolled": true,
    "slideshow": {
     "slide_type": ""
    },
    "tags": [
     "hide-output"
    ]
   },
   "outputs": [],
   "source": [
    "!mamba env create -f em-apps/environment.yml -n geosci-labs\n",
    "!mamba install -n geosci-labs simpeg\n",
    "!mamba run -n geosci-labs python -m ipykernel install --user --name=geosci-labs --display-name=\"geosci-labs\"\n",
    "!python update_notebook_kernels.py"
   ]
  },
  {
   "cell_type": "markdown",
   "id": "6b972335-c52d-465a-a88d-55964b72ff65",
   "metadata": {},
   "source": [
    "## Open the MT Layered Earth notebook\n",
    "\n",
    "- Open [MT_LayeredEarth](./em-apps/notebooks/em/MT_LayeredEarth.ipynb)"
   ]
  }
 ],
 "metadata": {
  "kernelspec": {
   "display_name": "Python 3 (ipykernel)",
   "language": "python",
   "name": "python3"
  },
  "language_info": {
   "codemirror_mode": {
    "name": "ipython",
    "version": 3
   },
   "file_extension": ".py",
   "mimetype": "text/x-python",
   "name": "python",
   "nbconvert_exporter": "python",
   "pygments_lexer": "ipython3",
   "version": "3.11.6"
  }
 },
 "nbformat": 4,
 "nbformat_minor": 5
}
